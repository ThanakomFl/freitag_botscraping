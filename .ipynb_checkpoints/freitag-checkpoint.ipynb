{
 "cells": [
  {
   "cell_type": "code",
   "execution_count": 1,
   "metadata": {
    "ExecuteTime": {
     "end_time": "2020-06-15T07:29:21.118729Z",
     "start_time": "2020-06-15T07:29:13.479863Z"
    }
   },
   "outputs": [],
   "source": [
    "# import selenium\n",
    "from selenium import webdriver\n",
    "import pandas as pd\n",
    "from selenium.webdriver.support.ui import WebDriverWait\n",
    "import time \n",
    "from selenium.webdriver.common.keys import Keys\n",
    "from oauth2client.service_account import ServiceAccountCredentials\n",
    "import gspread\n",
    "from selenium.webdriver.support import expected_conditions as EC"
   ]
  },
  {
   "cell_type": "code",
   "execution_count": 7,
   "metadata": {
    "ExecuteTime": {
     "end_time": "2020-06-15T07:30:04.479384Z",
     "start_time": "2020-06-15T07:29:59.175329Z"
    },
    "scrolled": true
   },
   "outputs": [],
   "source": [
    "inneed_color = 'blue'\n",
    "windowtab = 0\n",
    "driver = webdriver.Chrome()\n",
    "refresh_web()"
   ]
  },
  {
   "cell_type": "code",
   "execution_count": 6,
   "metadata": {
    "ExecuteTime": {
     "end_time": "2020-06-15T07:29:57.893371Z",
     "start_time": "2020-06-15T07:29:57.887366Z"
    },
    "scrolled": true
   },
   "outputs": [],
   "source": [
    "def refresh_web():\n",
    "    driver.get('https://www.freitag.ch/en/f153')\n",
    "    global windowtab \n",
    "    if windowtab == 0 :\n",
    "        driver.find_element_by_id(\"accept-cookies-cta\").click()\n",
    "    for i in range(1,len(driver.find_elements_by_xpath(\"//*[@id='products-selector']/ul/li\"))+1):\n",
    "#         xpath = \"//*[@id='products-selector']/ul/li[\"+str(i)+\"]\"\n",
    "#         item = driver.find_element_by_xpath(xpath)\n",
    "#         current_color = item.get_attribute('data-dimension17').split(\":\")[1]\n",
    "#         if(inneed_color == current_color):\n",
    "#             item.click()\n",
    "#             found_bag()\n",
    "#             break\n",
    "        print(\"asdsad\")\n",
    "#     driver.refresh()\n",
    "#     refresh_web()"
   ]
  },
  {
   "cell_type": "code",
   "execution_count": 3,
   "metadata": {
    "ExecuteTime": {
     "end_time": "2020-06-15T07:29:21.279202Z",
     "start_time": "2020-06-15T07:29:21.197409Z"
    }
   },
   "outputs": [],
   "source": [
    "def found_bag():\n",
    "    global windowtab \n",
    "    driver.find_element_by_id(\"product-addtocart\").click()\n",
    "    time.sleep(5)\n",
    "    driver.find_element_by_id(\"edit-checkout\").click()\n",
    "    time.sleep(2)\n",
    "    if windowtab == 0 :\n",
    "        driver.find_element_by_id(\"edit-name\").send_keys(\"tusaveeiei@gmail.com\")\n",
    "        driver.find_element_by_id(\"edit-pass\").send_keys(\"tusgod555\")\n",
    "        driver.find_element_by_id(\"edit-submit\").click()\n",
    "        time.sleep(2)\n",
    "        driver.find_element_by_class_name(\"form-text.form-tel.required\").send_keys(\"123456789\")\n",
    "    driver.find_element_by_id(\"edit-continue\").click()\n",
    "    time.sleep(2)\n",
    "    driver.find_element_by_id(\"edit-continue\").click()\n",
    "    time.sleep(2)\n",
    "    driver.execute_script(\"window.open('');\")\n",
    "    windowtab = windowtab + 1 \n",
    "    driver.switch_to.window(driver.window_handles[windowtab])"
   ]
  },
  {
   "cell_type": "code",
   "execution_count": 75,
   "metadata": {
    "ExecuteTime": {
     "end_time": "2020-06-14T17:11:48.370001Z",
     "start_time": "2020-06-14T17:11:48.348501Z"
    }
   },
   "outputs": [],
   "source": [
    "item = driver.find_elements_by_xpath(\"//*[@id='products-selector']/ul/li[7]\")\n",
    "item.get_attribute(\"data-dimension17\")"
   ]
  },
  {
   "cell_type": "code",
   "execution_count": 83,
   "metadata": {
    "ExecuteTime": {
     "end_time": "2020-06-14T17:33:28.013315Z",
     "start_time": "2020-06-14T17:33:22.825325Z"
    }
   },
   "outputs": [
    {
     "ename": "AttributeError",
     "evalue": "'tuple' object has no attribute 'get_attribute'",
     "output_type": "error",
     "traceback": [
      "\u001b[1;31m---------------------------------------------------------------------------\u001b[0m",
      "\u001b[1;31mAttributeError\u001b[0m                            Traceback (most recent call last)",
      "\u001b[1;32m<ipython-input-83-5d3c0b5940df>\u001b[0m in \u001b[0;36m<module>\u001b[1;34m\u001b[0m\n\u001b[0;32m      3\u001b[0m \u001b[0mdriver\u001b[0m\u001b[1;33m.\u001b[0m\u001b[0mfind_element_by_id\u001b[0m\u001b[1;33m(\u001b[0m\u001b[1;34m\"accept-cookies-cta\"\u001b[0m\u001b[1;33m)\u001b[0m\u001b[1;33m.\u001b[0m\u001b[0mclick\u001b[0m\u001b[1;33m(\u001b[0m\u001b[1;33m)\u001b[0m\u001b[1;33m\u001b[0m\u001b[1;33m\u001b[0m\u001b[0m\n\u001b[0;32m      4\u001b[0m \u001b[1;32mfor\u001b[0m \u001b[0mitem\u001b[0m \u001b[1;32min\u001b[0m \u001b[0menumerate\u001b[0m\u001b[1;33m(\u001b[0m\u001b[0mdriver\u001b[0m\u001b[1;33m.\u001b[0m\u001b[0mfind_elements_by_xpath\u001b[0m\u001b[1;33m(\u001b[0m\u001b[1;34m\"//*[@id='products-selector']/ul\"\u001b[0m\u001b[1;33m)\u001b[0m\u001b[1;33m)\u001b[0m\u001b[1;33m:\u001b[0m\u001b[1;33m\u001b[0m\u001b[1;33m\u001b[0m\u001b[0m\n\u001b[1;32m----> 5\u001b[1;33m     \u001b[1;32mif\u001b[0m\u001b[1;33m(\u001b[0m\u001b[1;34m'productID'\u001b[0m \u001b[1;32min\u001b[0m \u001b[0mitem\u001b[0m\u001b[1;33m.\u001b[0m\u001b[0mget_attribute\u001b[0m\u001b[1;33m(\u001b[0m\u001b[1;34m'innerHTML'\u001b[0m\u001b[1;33m)\u001b[0m\u001b[1;33m)\u001b[0m\u001b[1;33m:\u001b[0m\u001b[1;33m\u001b[0m\u001b[1;33m\u001b[0m\u001b[0m\n\u001b[0m\u001b[0;32m      6\u001b[0m         \u001b[0mprint\u001b[0m\u001b[1;33m(\u001b[0m\u001b[0mitem\u001b[0m\u001b[1;33m.\u001b[0m\u001b[0mget_attribute\u001b[0m\u001b[1;33m(\u001b[0m\u001b[1;34m'innerHTML'\u001b[0m\u001b[1;33m)\u001b[0m\u001b[1;33m)\u001b[0m\u001b[1;33m\u001b[0m\u001b[1;33m\u001b[0m\u001b[0m\n",
      "\u001b[1;31mAttributeError\u001b[0m: 'tuple' object has no attribute 'get_attribute'"
     ]
    }
   ],
   "source": [
    "driver = webdriver.Chrome()\n",
    "driver.get('https://www.freitag.ch/en/f153')\n",
    "driver.find_element_by_id(\"accept-cookies-cta\").click()\n",
    "for item in enumerate(driver.find_elements_by_xpath(\"//*[@id='products-selector']/ul\")):\n",
    "    if('productID' in item.get_attribute('innerHTML')):\n",
    "        print(item.get_attribute('innerHTML'))\n"
   ]
  },
  {
   "cell_type": "code",
   "execution_count": 121,
   "metadata": {
    "ExecuteTime": {
     "end_time": "2020-06-14T17:56:25.484068Z",
     "start_time": "2020-06-14T17:56:25.312108Z"
    },
    "scrolled": true
   },
   "outputs": [],
   "source": [
    "for i in range(1,len(driver.find_elements_by_xpath(\"//*[@id='products-selector']/ul/li\"))+1):\n",
    "    xpath = \"//*[@id='products-selector']/ul/li[\"+str(i)+\"]\"\n",
    "    item = driver.find_element_by_xpath(xpath)\n",
    "    current_color = item.get_attribute('data-dimension17').split(\":\")\n",
    "    if(inneed_color == current_color):\n",
    "        item.click()\n",
    "        found_bag()\n",
    "        break"
   ]
  }
 ],
 "metadata": {
  "kernelspec": {
   "display_name": "Python 3",
   "language": "python",
   "name": "python3"
  },
  "language_info": {
   "codemirror_mode": {
    "name": "ipython",
    "version": 3
   },
   "file_extension": ".py",
   "mimetype": "text/x-python",
   "name": "python",
   "nbconvert_exporter": "python",
   "pygments_lexer": "ipython3",
   "version": "3.7.3"
  },
  "varInspector": {
   "cols": {
    "lenName": 16,
    "lenType": 16,
    "lenVar": 40
   },
   "kernels_config": {
    "python": {
     "delete_cmd_postfix": "",
     "delete_cmd_prefix": "del ",
     "library": "var_list.py",
     "varRefreshCmd": "print(var_dic_list())"
    },
    "r": {
     "delete_cmd_postfix": ") ",
     "delete_cmd_prefix": "rm(",
     "library": "var_list.r",
     "varRefreshCmd": "cat(var_dic_list()) "
    }
   },
   "types_to_exclude": [
    "module",
    "function",
    "builtin_function_or_method",
    "instance",
    "_Feature"
   ],
   "window_display": false
  }
 },
 "nbformat": 4,
 "nbformat_minor": 2
}
